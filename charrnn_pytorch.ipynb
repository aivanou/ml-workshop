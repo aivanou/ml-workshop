{
 "cells": [
  {
   "cell_type": "code",
   "execution_count": 1,
   "metadata": {},
   "outputs": [],
   "source": [
    "%reload_ext autoreload\n",
    "%autoreload 2\n",
    "%matplotlib inline\n",
    "\n",
    "# Import pytorch https://pytorch.org/docs/stable/index.html\n",
    "import torch\n",
    "# Import numpy https://docs.scipy.org/doc/numpy/dev/\n",
    "import numpy as np\n",
    "from random import sample\n",
    "# Import Variable https://jhui.github.io/2018/02/09/PyTorch-Variables-functionals-and-Autograd/\n",
    "from torch.autograd import Variable\n"
   ]
  },
  {
   "cell_type": "code",
   "execution_count": 2,
   "metadata": {},
   "outputs": [],
   "source": [
    "\n",
    "import time\n",
    "import math\n",
    "\n",
    "\n",
    "# Util function to keep track of execution time\n",
    "def timeSince(since):\n",
    "    now = time.time()\n",
    "    s = now - since\n",
    "    m = math.floor(s / 60)\n",
    "    s -= m * 60\n",
    "    return '%dm %ds' % (m, s)\n"
   ]
  },
  {
   "cell_type": "code",
   "execution_count": 3,
   "metadata": {
    "scrolled": true
   },
   "outputs": [
    {
     "name": "stdout",
     "output_type": "stream",
     "text": [
      "1.0.0\n"
     ]
    }
   ],
   "source": [
    "print(torch.__version__)"
   ]
  },
  {
   "cell_type": "markdown",
   "metadata": {},
   "source": [
    "### Download name data"
   ]
  },
  {
   "cell_type": "code",
   "execution_count": 4,
   "metadata": {},
   "outputs": [
    {
     "name": "stdout",
     "output_type": "stream",
     "text": [
      "File names/names is already downloaded.\n"
     ]
    }
   ],
   "source": [
    "import common.workshop\n",
    "\n",
    "common.workshop.download_name_generation()"
   ]
  },
  {
   "cell_type": "code",
   "execution_count": 5,
   "metadata": {
    "scrolled": false
   },
   "outputs": [
    {
     "name": "stdout",
     "output_type": "stream",
     "text": [
      "charrnn_pytorch.ipynb\t    __pycache__\r\n",
      "common\t\t\t    tag-prediction\r\n",
      "data\t\t\t    TagsPrediction.ipynb\r\n",
      "lost+found\t\t    text-generation\r\n",
      "MNIST-classification.ipynb  TextGeneration.ipynb\r\n",
      "names\t\t\t    text_generation_pytorch.ipynb\r\n"
     ]
    }
   ],
   "source": [
    "!ls ./"
   ]
  },
  {
   "cell_type": "code",
   "execution_count": 6,
   "metadata": {},
   "outputs": [],
   "source": [
    "\n",
    "DATA_FILE = './names/names'\n"
   ]
  },
  {
   "cell_type": "markdown",
   "metadata": {},
   "source": [
    "### Read data from files"
   ]
  },
  {
   "cell_type": "code",
   "execution_count": 7,
   "metadata": {},
   "outputs": [],
   "source": [
    "\n",
    "# TODO: Implement\n",
    "\n",
    "def read_names(filepath):\n",
    "    names = []\n",
    "    with open(DATA_FILE) as f:\n",
    "        names = f.read().split('\\n')[:-1]\n",
    "    return names\n",
    "\n"
   ]
  },
  {
   "cell_type": "code",
   "execution_count": 8,
   "metadata": {},
   "outputs": [
    {
     "name": "stdout",
     "output_type": "stream",
     "text": [
      "['Abagael', 'Abagail', 'Abbe', 'Abbey', 'Abbi', 'Abbie', 'Abby', 'Abigael', 'Abigail', 'Abigale']\n"
     ]
    }
   ],
   "source": [
    "\n",
    "names = read_names(DATA_FILE)\n",
    "\n",
    "print(names[0:10])\n",
    "\n",
    "assert(len(names) == 7944)\n"
   ]
  },
  {
   "cell_type": "markdown",
   "metadata": {},
   "source": [
    "### Data exploration(names)"
   ]
  },
  {
   "cell_type": "code",
   "execution_count": null,
   "metadata": {},
   "outputs": [],
   "source": []
  },
  {
   "cell_type": "markdown",
   "metadata": {},
   "source": [
    "### Explain overall approach"
   ]
  },
  {
   "cell_type": "markdown",
   "metadata": {},
   "source": [
    "### Construct alphabet"
   ]
  },
  {
   "cell_type": "code",
   "execution_count": 9,
   "metadata": {},
   "outputs": [],
   "source": [
    "pad_token = '#'\n",
    "\n",
    "\n",
    "# TODO: Implement\n",
    "\n",
    "def construct_alphabet(names, pad_token):\n",
    "    alphabet = set()\n",
    "    for name in names:\n",
    "        for token in name:\n",
    "            alphabet.add(token)\n",
    "    alphabet.add(pad_token)\n",
    "    return alphabet\n",
    "\n",
    "\n"
   ]
  },
  {
   "cell_type": "code",
   "execution_count": 10,
   "metadata": {},
   "outputs": [
    {
     "name": "stdout",
     "output_type": "stream",
     "text": [
      "{'c', 'I', 'd', 'b', 'W', 'V', 'a', 'H', 'Z', 't', 'Y', 'G', 'J', 'l', 'D', 'j', 'C', 'A', 'n', 'f', 'Q', 'P', 'q', 'i', 'x', 'g', 'e', 'X', 'T', 'F', 'E', 'v', 'O', 'M', 'r', 'R', 'U', 'm', 'o', 'p', \"'\", 'y', 's', 'k', '-', 'h', 'B', 'K', 'L', 'N', '#', 'S', ' ', 'w', 'z', 'u'}\n"
     ]
    }
   ],
   "source": [
    "\n",
    "alphabet = construct_alphabet(names, pad_token)\n",
    "\n",
    "print(alphabet)\n"
   ]
  },
  {
   "cell_type": "markdown",
   "metadata": {},
   "source": [
    "### Construct data dictionaries"
   ]
  },
  {
   "cell_type": "code",
   "execution_count": 13,
   "metadata": {},
   "outputs": [],
   "source": [
    "\n",
    "\n",
    "# TODO: implement\n",
    "\n",
    "def construct_data_dictionaries(alphabet):\n",
    "    tokens_ids = {}\n",
    "    ids_tokens = {}\n",
    "    for ind,token in enumerate(alphabet):\n",
    "        tokens_ids[token] = ind\n",
    "        ids_tokens[ind] = token\n",
    "    return tokens_ids, ids_tokens\n"
   ]
  },
  {
   "cell_type": "code",
   "execution_count": 14,
   "metadata": {},
   "outputs": [
    {
     "name": "stdout",
     "output_type": "stream",
     "text": [
      "{'c': 0, 'I': 1, 'd': 2, 'b': 3, 'W': 4, 'V': 5, 'a': 6, 'H': 7, 'Z': 8, 't': 9, 'Y': 10, 'G': 11, 'J': 12, 'l': 13, 'D': 14, 'j': 15, 'C': 16, 'A': 17, 'n': 18, 'f': 19, 'Q': 20, 'P': 21, 'q': 22, 'i': 23, 'x': 24, 'g': 25, 'e': 26, 'X': 27, 'T': 28, 'F': 29, 'E': 30, 'v': 31, 'O': 32, 'M': 33, 'r': 34, 'R': 35, 'U': 36, 'm': 37, 'o': 38, 'p': 39, \"'\": 40, 'y': 41, 's': 42, 'k': 43, '-': 44, 'h': 45, 'B': 46, 'K': 47, 'L': 48, 'N': 49, '#': 50, 'S': 51, ' ': 52, 'w': 53, 'z': 54, 'u': 55}\n"
     ]
    }
   ],
   "source": [
    "\n",
    "tokens_ids, ids_tokens = construct_data_dictionaries(alphabet)\n",
    "\n",
    "\n",
    "assert(len(tokens_ids) == len(ids_tokens))\n",
    "\n",
    "print(tokens_ids)\n"
   ]
  },
  {
   "cell_type": "markdown",
   "metadata": {},
   "source": [
    "### Translate words into numbers"
   ]
  },
  {
   "cell_type": "code",
   "execution_count": 15,
   "metadata": {},
   "outputs": [],
   "source": [
    "MAX_VECTOR_LEN = 15\n",
    "\n",
    "\n",
    "# Implement\n",
    "\n",
    "def to_nums(name):\n",
    "    return [tokens_ids[ch] for ch in name]\n",
    "\n",
    "def to_word(ids):\n",
    "    return ''.join([ids_tokens[id] for id in ids])\n",
    "\n",
    "def to_pad(nums):\n",
    "    pad_arr = [tokens_ids[pad_token] for _ in range(MAX_VECTOR_LEN-len(nums))]\n",
    "    return nums + pad_arr\n",
    "\n",
    "\n",
    "def name_to_vector(name):\n",
    "    return to_pad(to_nums(name))\n"
   ]
  },
  {
   "cell_type": "code",
   "execution_count": 16,
   "metadata": {},
   "outputs": [
    {
     "name": "stdout",
     "output_type": "stream",
     "text": [
      "[9, 26, 24, 9, 50, 50, 50, 50, 50, 50, 50, 50, 50, 50, 50]\n"
     ]
    }
   ],
   "source": [
    "\n",
    "\n",
    "assert(len(name_to_vector(\"text\")) == 15)\n",
    "\n",
    "print(name_to_vector(\"text\"))\n"
   ]
  },
  {
   "cell_type": "markdown",
   "metadata": {},
   "source": [
    "### Get random smaple"
   ]
  },
  {
   "cell_type": "code",
   "execution_count": 17,
   "metadata": {},
   "outputs": [],
   "source": [
    "\n",
    "def sample_names(batch_size=32):\n",
    "    return sample(names, batch_size)\n"
   ]
  },
  {
   "cell_type": "code",
   "execution_count": 18,
   "metadata": {
    "scrolled": true
   },
   "outputs": [
    {
     "data": {
      "text/plain": [
       "['Benji',\n",
       " 'Venita',\n",
       " 'Audrey',\n",
       " 'Alpa',\n",
       " 'Beverlee',\n",
       " 'Nevin',\n",
       " 'Sharleen',\n",
       " 'Andrea',\n",
       " 'Daisie',\n",
       " 'Indira']"
      ]
     },
     "execution_count": 18,
     "metadata": {},
     "output_type": "execute_result"
    }
   ],
   "source": [
    "\n",
    "sample_names(10)\n"
   ]
  },
  {
   "cell_type": "markdown",
   "metadata": {},
   "source": [
    "### Names to padded matrix"
   ]
  },
  {
   "cell_type": "code",
   "execution_count": 19,
   "metadata": {},
   "outputs": [],
   "source": [
    "\n",
    "def names_to_pad_matrix(names):\n",
    "    return np.array([to_pad(to_nums(name)) for name in names])\n",
    "\n"
   ]
  },
  {
   "cell_type": "code",
   "execution_count": 20,
   "metadata": {
    "scrolled": false
   },
   "outputs": [
    {
     "data": {
      "text/plain": [
       "array([[11, 23, 18, 26, 31, 34,  6, 50, 50, 50, 50, 50, 50, 50, 50],\n",
       "       [11, 23, 19, 19, 26, 34, 50, 50, 50, 50, 50, 50, 50, 50, 50],\n",
       "       [28, 45, 38, 34, 18, 41, 50, 50, 50, 50, 50, 50, 50, 50, 50],\n",
       "       [46, 26, 34, 18,  6, 34,  2, 38, 50, 50, 50, 50, 50, 50, 50],\n",
       "       [49, 38, 18,  6, 45, 50, 50, 50, 50, 50, 50, 50, 50, 50, 50],\n",
       "       [11, 26, 34, 34,  6, 34,  2, 50, 50, 50, 50, 50, 50, 50, 50],\n",
       "       [14,  6, 34,  0, 23, 26, 50, 50, 50, 50, 50, 50, 50, 50, 50],\n",
       "       [ 7,  6, 39, 39, 41, 50, 50, 50, 50, 50, 50, 50, 50, 50, 50],\n",
       "       [48,  6, 55, 34, 23, 50, 50, 50, 50, 50, 50, 50, 50, 50, 50],\n",
       "       [14, 38, 34, 34, 41, 50, 50, 50, 50, 50, 50, 50, 50, 50, 50]])"
      ]
     },
     "execution_count": 20,
     "metadata": {},
     "output_type": "execute_result"
    }
   ],
   "source": [
    "\n",
    "names_to_pad_matrix(sample_names(10))\n"
   ]
  },
  {
   "cell_type": "markdown",
   "metadata": {},
   "source": [
    "### Intro to RNNs"
   ]
  },
  {
   "cell_type": "markdown",
   "metadata": {},
   "source": [
    "### Build simple RNN using pytorch"
   ]
  },
  {
   "cell_type": "code",
   "execution_count": 21,
   "metadata": {},
   "outputs": [],
   "source": [
    "\n",
    "import torch.nn as nn\n",
    "\n",
    "class SimpleRNN(torch.nn.Module):\n",
    "    def __init__(self, n_input, n_hidden, n_output):\n",
    "        super(SimpleRNN, self).__init__()\n",
    "        self.n_hidden = n_hidden\n",
    "        self.i2h = nn.Linear(n_input + n_hidden, n_hidden)\n",
    "        self.h2o = nn.Linear(n_hidden, n_output)\n",
    "        self.softmax = nn.LogSoftmax(dim=1)\n",
    "#         self.softmax = nn.Softmax(dim=1)\n",
    "        self.relu = nn.ReLU()\n",
    "        \n",
    "\n",
    "    def forward(self, input, hidden):\n",
    "        combined = torch.cat((input, hidden), 1)\n",
    "        next_hidden = self.i2h(combined)\n",
    "        next_hidden = self.relu(next_hidden)\n",
    "        output = self.h2o(next_hidden)\n",
    "        return next_hidden, self.softmax(output)\n",
    "    \n",
    "    def initHidden(self):\n",
    "        return torch.zeros(1, self.n_hidden)\n",
    "\n"
   ]
  },
  {
   "cell_type": "code",
   "execution_count": 22,
   "metadata": {},
   "outputs": [
    {
     "data": {
      "text/plain": [
       "torch.Size([3, 2, 30])"
      ]
     },
     "execution_count": 22,
     "metadata": {},
     "output_type": "execute_result"
    }
   ],
   "source": [
    "\n",
    "t1 = torch.zeros(3,2,10)\n",
    "t2 = torch.zeros(3,2,20)\n",
    "\n",
    "torch.cat((t1,t2),2).shape\n"
   ]
  },
  {
   "cell_type": "markdown",
   "metadata": {},
   "source": [
    "### Convert name to matrix"
   ]
  },
  {
   "cell_type": "code",
   "execution_count": 23,
   "metadata": {},
   "outputs": [],
   "source": [
    "\n",
    "\n",
    "n_letters = len(alphabet)\n",
    "\n",
    "# Implement\n",
    "\n",
    "def to_matrix(line):\n",
    "    matrix = np.zeros((len(line), n_letters))\n",
    "    for li in range(len(line)):\n",
    "        letter = line[li]\n",
    "        matrix[li][tokens_ids[letter]] = 1\n",
    "    return matrix\n",
    "\n",
    "\n"
   ]
  },
  {
   "cell_type": "code",
   "execution_count": 24,
   "metadata": {},
   "outputs": [],
   "source": [
    "\n",
    "assert(to_matrix('test').shape == (4, n_letters))\n"
   ]
  },
  {
   "cell_type": "code",
   "execution_count": 25,
   "metadata": {},
   "outputs": [],
   "source": [
    "\n",
    "\n",
    "def get_input_matrix(line):\n",
    "    return to_matrix(line)\n",
    "\n",
    "def get_target_vector(line):\n",
    "    letter_indexes = [tokens_ids[letter] for letter in line[1:]]\n",
    "    letter_indexes.append(tokens_ids[pad_token]) # EOS\n",
    "    return np.array(letter_indexes)\n"
   ]
  },
  {
   "cell_type": "code",
   "execution_count": 26,
   "metadata": {},
   "outputs": [
    {
     "name": "stdout",
     "output_type": "stream",
     "text": [
      "[26 42  9 13 23 18 26 50]\n"
     ]
    }
   ],
   "source": [
    "\n",
    "\n",
    "input_line = 'testline'\n",
    "\n",
    "input_matrix = get_input_matrix(input_line)\n",
    "\n",
    "target_vector = get_target_vector(input_line)\n",
    "\n",
    "\n",
    "print(target_vector)\n",
    "\n"
   ]
  },
  {
   "cell_type": "code",
   "execution_count": 27,
   "metadata": {},
   "outputs": [],
   "source": [
    "\n",
    "\n",
    "def numpy_to_tensor(numpy_matrix):\n",
    "    return torch.from_numpy(numpy_matrix)\n",
    "\n"
   ]
  },
  {
   "cell_type": "code",
   "execution_count": 30,
   "metadata": {},
   "outputs": [],
   "source": [
    "\n",
    "def construct_input_tensor(line):\n",
    "    input_matrix = get_input_matrix(line)\n",
    "    input_tensor = numpy_to_tensor(input_matrix)\n",
    "    input_tensor = input_tensor.unsqueeze(dim = 1)\n",
    "    input_tensor = input_tensor.type(torch.FloatTensor)\n",
    "    return input_tensor\n",
    "\n",
    "def construct_output_tensor(line):\n",
    "    output_vector = get_target_vector(line)\n",
    "    output_tensor = numpy_to_tensor(output_vector)\n",
    "    output_tensor = output_tensor.type(torch.LongTensor)\n",
    "    return output_tensor\n",
    "    \n",
    "def random_sample():\n",
    "    name = sample_names(1)[0]\n",
    "    i_tensor = construct_input_tensor(name)\n",
    "    o_tensor = construct_output_tensor(name)\n",
    "    \n",
    "    return i_tensor, o_tensor\n",
    "    \n"
   ]
  },
  {
   "cell_type": "code",
   "execution_count": 31,
   "metadata": {},
   "outputs": [
    {
     "name": "stdout",
     "output_type": "stream",
     "text": [
      "torch.Size([1, 128])\n"
     ]
    }
   ],
   "source": [
    "\n",
    "rnn = SimpleRNN(n_letters, 128, n_letters)\n",
    "\n",
    "hidden = rnn.initHidden()\n",
    "\n",
    "input_tensor, output_tensor = random_sample()\n",
    "\n",
    "next_hidden, output = rnn(input_tensor[0], hidden)\n",
    "\n",
    "print(next_hidden.shape)\n"
   ]
  },
  {
   "cell_type": "markdown",
   "metadata": {},
   "source": [
    "### Create criterion"
   ]
  },
  {
   "cell_type": "code",
   "execution_count": 32,
   "metadata": {},
   "outputs": [],
   "source": [
    "\n",
    "def construct_criterion():\n",
    "    return nn.CrossEntropyLoss()\n"
   ]
  },
  {
   "cell_type": "code",
   "execution_count": 33,
   "metadata": {},
   "outputs": [
    {
     "data": {
      "text/plain": [
       "tensor(3.9768, grad_fn=<NllLossBackward>)"
      ]
     },
     "execution_count": 33,
     "metadata": {},
     "output_type": "execute_result"
    }
   ],
   "source": [
    "\n",
    "\n",
    "criterion = construct_criterion()\n",
    "\n",
    "input_tensor, target_tensor = random_sample()\n",
    "\n",
    "# \n",
    "target_tensor = target_tensor.unsqueeze_(-1)\n",
    "\n",
    "next_hidden, output_layer = rnn(input_tensor[0], rnn.initHidden())\n",
    "\n",
    "criterion(output_layer, target_tensor[0])\n",
    "\n"
   ]
  },
  {
   "cell_type": "code",
   "execution_count": null,
   "metadata": {},
   "outputs": [],
   "source": []
  },
  {
   "cell_type": "markdown",
   "metadata": {},
   "source": [
    "### Train loop"
   ]
  },
  {
   "cell_type": "code",
   "execution_count": 34,
   "metadata": {},
   "outputs": [],
   "source": [
    "# criterion = nn.NLLLoss()\n",
    "criterion = nn.CrossEntropyLoss()\n",
    "rnn = SimpleRNN(n_letters, 128, n_letters)\n",
    "learning_rate = 0.005\n",
    "\n",
    "def train_on_random_sample():\n",
    "    input_tensor, target_tensor = random_sample()\n",
    "    target_tensor = target_tensor.unsqueeze_(-1)\n",
    "    hidden = rnn.initHidden()\n",
    "    nletters = input_tensor.size(0)\n",
    "\n",
    "    rnn.zero_grad()\n",
    "    loss = 0\n",
    "    \n",
    "    for i in range(nletters):\n",
    "        next_hidden, output = rnn(input_tensor[i], hidden)\n",
    "        l = criterion(output, target_tensor[i])\n",
    "        hidden = next_hidden\n",
    "        loss+=l\n",
    "        \n",
    "    loss.backward()\n",
    "    \n",
    "    for p in rnn.parameters():\n",
    "        p.data.add_(-learning_rate, p.grad.data)\n",
    "    \n",
    "    return output, loss.item()\n"
   ]
  },
  {
   "cell_type": "code",
   "execution_count": 35,
   "metadata": {},
   "outputs": [
    {
     "name": "stdout",
     "output_type": "stream",
     "text": [
      "0m 11s (5000 5%) 9.9013\n",
      "0m 22s (10000 10%) 13.7898\n",
      "0m 34s (15000 15%) 15.3389\n",
      "0m 45s (20000 20%) 8.4625\n",
      "0m 57s (25000 25%) 8.8541\n",
      "1m 8s (30000 30%) 11.3351\n",
      "1m 22s (35000 35%) 10.8521\n",
      "1m 33s (40000 40%) 8.6659\n",
      "1m 45s (45000 45%) 10.0635\n",
      "1m 58s (50000 50%) 7.1660\n",
      "2m 13s (55000 55%) 11.3921\n",
      "2m 28s (60000 60%) 19.2101\n",
      "2m 42s (65000 65%) 6.3835\n",
      "2m 56s (70000 70%) 12.0848\n",
      "3m 11s (75000 75%) 10.5352\n",
      "3m 25s (80000 80%) 9.4920\n",
      "3m 40s (85000 85%) 6.5018\n",
      "3m 54s (90000 90%) 10.2576\n",
      "4m 6s (95000 95%) 9.2764\n",
      "4m 18s (100000 100%) 5.6780\n"
     ]
    }
   ],
   "source": [
    "\n",
    "n_iters = 100000\n",
    "print_every = 5000\n",
    "plot_every = 500\n",
    "all_losses = []\n",
    "total_loss = 0 # Reset every plot_every iters\n",
    "\n",
    "start = time.time()\n",
    "\n",
    "for ind in range(1, n_iters + 1):\n",
    "    output, loss = train_on_random_sample()\n",
    "    total_loss += loss\n",
    "\n",
    "    if ind % print_every == 0:\n",
    "        print('%s (%d %d%%) %.4f' % (timeSince(start), ind, ind / n_iters * 100, loss))\n",
    "\n",
    "    if ind % plot_every == 0:\n",
    "        all_losses.append(total_loss / plot_every)\n",
    "        total_loss = 0\n",
    "\n"
   ]
  },
  {
   "cell_type": "markdown",
   "metadata": {},
   "source": [
    "### Plot loss"
   ]
  },
  {
   "cell_type": "code",
   "execution_count": 36,
   "metadata": {},
   "outputs": [
    {
     "data": {
      "text/plain": [
       "[<matplotlib.lines.Line2D at 0x7f8025eca588>]"
      ]
     },
     "execution_count": 36,
     "metadata": {},
     "output_type": "execute_result"
    },
    {
     "data": {
      "image/png": "[encoded data removed]",
      "text/plain": [
       "<Figure size 432x288 with 1 Axes>"
      ]
     },
     "metadata": {},
     "output_type": "display_data"
    }
   ],
   "source": [
    "import matplotlib.pyplot as plt\n",
    "import matplotlib.ticker as ticker\n",
    "\n",
    "plt.figure()\n",
    "plt.plot(all_losses)\n"
   ]
  },
  {
   "cell_type": "code",
   "execution_count": 38,
   "metadata": {},
   "outputs": [],
   "source": [
    "\n",
    "max_length = 15\n",
    "def sample_from_nn(start_letter='A'):\n",
    "    with torch.no_grad():  # no need to track history in sampling\n",
    "        input = construct_input_tensor(start_letter)\n",
    "        hidden = rnn.initHidden()\n",
    "\n",
    "        output_name = start_letter\n",
    "\n",
    "        for i in range(max_length):\n",
    "            hidden, output = rnn(input[0], hidden)\n",
    "            topv, topi = output.topk(1)\n",
    "            topi = topi[0][0]\n",
    "            if topi == n_letters - 1:\n",
    "                break\n",
    "            else:\n",
    "                letter = ids_tokens[topi.item()]\n",
    "                output_name += letter\n",
    "            input = construct_input_tensor(letter)\n",
    "\n",
    "        return output_name\n",
    "    \n",
    "    \n",
    "def sample_from_nn_distr(start_letter='A'):\n",
    "    with torch.no_grad():  # no need to track history in sampling\n",
    "        input = inputTensor(start_letter)\n",
    "        hidden = rnn.initHidden()\n",
    "\n",
    "        output_name = start_letter\n",
    "\n",
    "        for i in range(max_length):\n",
    "            hidden, output = rnn(input[0], hidden)\n",
    "            output_arr = output.numpy()[0]\n",
    "            print(output_arr)\n",
    "            token_id = np.random.choice(range(len(output_arr)), p = output_arr)\n",
    "            letter = ids_tokens[token_id]\n",
    "            output_name += letter    \n",
    "            input = inputTensor(letter)\n",
    "\n",
    "        return output_name\n",
    "\n"
   ]
  },
  {
   "cell_type": "code",
   "execution_count": 56,
   "metadata": {},
   "outputs": [
    {
     "data": {
      "text/plain": [
       "'Franc#is#a######'"
      ]
     },
     "execution_count": 56,
     "metadata": {},
     "output_type": "execute_result"
    }
   ],
   "source": [
    "\n",
    "sample_from_nn('F')"
   ]
  },
  {
   "cell_type": "code",
   "execution_count": null,
   "metadata": {},
   "outputs": [],
   "source": []
  }
 ],
 "metadata": {
  "kernelspec": {
   "display_name": "conda_pytorch_p36",
   "language": "python",
   "name": "conda_pytorch_p36"
  },
  "language_info": {
   "codemirror_mode": {
    "name": "ipython",
    "version": 3
   },
   "file_extension": ".py",
   "mimetype": "text/x-python",
   "name": "python",
   "nbconvert_exporter": "python",
   "pygments_lexer": "ipython3",
   "version": "3.6.5"
  }
 },
 "nbformat": 4,
 "nbformat_minor": 2
}
