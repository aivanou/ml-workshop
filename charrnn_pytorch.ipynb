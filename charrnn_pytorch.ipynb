{
 "cells": [
  {
   "cell_type": "code",
   "execution_count": 1,
   "metadata": {},
   "outputs": [],
   "source": [
    "%reload_ext autoreload\n",
    "%autoreload 2\n",
    "%matplotlib inline\n",
    "\n",
    "import torchtext\n",
    "import torch\n",
    "import numpy as np\n",
    "from random import sample\n",
    "from torch.autograd import Variable\n"
   ]
  },
  {
   "cell_type": "code",
   "execution_count": 2,
   "metadata": {},
   "outputs": [
    {
     "name": "stdout",
     "output_type": "stream",
     "text": [
      "1.0.1.post2\n"
     ]
    }
   ],
   "source": [
    "print(torch.__version__)"
   ]
  },
  {
   "cell_type": "code",
   "execution_count": 3,
   "metadata": {},
   "outputs": [],
   "source": [
    "\n",
    "DATA_FILE = '/home/ubuntu/data/names'\n",
    "\n",
    "import time\n",
    "import math\n",
    "\n",
    "def timeSince(since):\n",
    "    now = time.time()\n",
    "    s = now - since\n",
    "    m = math.floor(s / 60)\n",
    "    s -= m * 60\n",
    "    return '%dm %ds' % (m, s)\n",
    "\n"
   ]
  },
  {
   "cell_type": "code",
   "execution_count": 4,
   "metadata": {},
   "outputs": [],
   "source": [
    "\n",
    "pad_token = '#'\n",
    "names = []\n",
    "with open(DATA_FILE) as f:\n",
    "    names = f.read().split('\\n')[:-1]\n",
    "\n",
    "MAX_LEN = max(map(len, names))\n",
    "    \n",
    "tokens = set()\n",
    "for name in names:\n",
    "    for token in name:\n",
    "        tokens.add(token)\n",
    "\n",
    "tokens.add(pad_token)\n",
    "\n",
    "tokens_ids = {}\n",
    "ids_tokens = {}\n",
    "for ind,token in enumerate(tokens):\n",
    "    tokens_ids[token] = ind\n",
    "    ids_tokens[ind] = token\n"
   ]
  },
  {
   "cell_type": "code",
   "execution_count": 5,
   "metadata": {},
   "outputs": [
    {
     "data": {
      "text/plain": [
       "array([[54, 43,  1,  1, 47, 29,  2,  2,  2,  2,  2,  2,  2,  2,  2],\n",
       "       [49, 17, 29, 25, 47, 32,  2,  2,  2,  2,  2,  2,  2,  2,  2],\n",
       "       [49, 17,  1, 24, 39, 55,  2,  2,  2,  2,  2,  2,  2,  2,  2]])"
      ]
     },
     "execution_count": 5,
     "metadata": {},
     "output_type": "execute_result"
    }
   ],
   "source": [
    "\n",
    "def to_nums(name):\n",
    "    return [tokens_ids[ch] for ch in name]\n",
    "\n",
    "def to_word(ids):\n",
    "    return ''.join([ids_tokens[id] for id in ids])\n",
    "\n",
    "def to_pad(nums):\n",
    "    pad_arr = [tokens_ids[pad_token] for _ in range(MAX_LEN-len(nums))]\n",
    "    return nums + pad_arr\n",
    "\n",
    "\n",
    "def sample_names(batch_size=32):\n",
    "    return sample(names, batch_size)\n",
    "\n",
    "\n",
    "def to_matrix(names):\n",
    "    return np.array([to_pad(to_nums(name)) for name in names])\n",
    "\n",
    "to_matrix(sample_names(batch_size=3))"
   ]
  },
  {
   "cell_type": "code",
   "execution_count": 6,
   "metadata": {},
   "outputs": [],
   "source": [
    "\n",
    "import torch.nn as nn\n",
    "\n",
    "class SimpleRNN(torch.nn.Module):\n",
    "    def __init__(self, n_input, n_hidden, n_output):\n",
    "        super(SimpleRNN, self).__init__()\n",
    "        self.n_hidden = n_hidden\n",
    "        \n",
    "        self.i2h = nn.Linear(n_input + n_hidden, n_hidden)\n",
    "        self.h2o = nn.Linear(n_hidden, n_output)\n",
    "        self.softmax = nn.LogSoftmax(dim=1)\n",
    "#         self.softmax = nn.Softmax(dim=1)\n",
    "        self.relu = nn.ReLU()\n",
    "        \n",
    "\n",
    "    def forward(self, input, hidden):\n",
    "        combined = torch.cat((input, hidden), 1)\n",
    "        next_hidden = self.i2h(combined)\n",
    "        next_hidden = self.relu(next_hidden)\n",
    "        output = self.h2o(next_hidden)\n",
    "        return next_hidden, self.softmax(output)\n",
    "    \n",
    "    def initHidden(self):\n",
    "        return torch.zeros(1, self.n_hidden)\n",
    "\n"
   ]
  },
  {
   "cell_type": "code",
   "execution_count": 7,
   "metadata": {},
   "outputs": [
    {
     "data": {
      "text/plain": [
       "torch.Size([3, 2, 30])"
      ]
     },
     "execution_count": 7,
     "metadata": {},
     "output_type": "execute_result"
    }
   ],
   "source": [
    "\n",
    "t1 = torch.zeros(3,2,10)\n",
    "t2 = torch.zeros(3,2,20)\n",
    "\n",
    "torch.cat((t1,t2),2).shape\n"
   ]
  },
  {
   "cell_type": "code",
   "execution_count": 8,
   "metadata": {},
   "outputs": [],
   "source": [
    "\n",
    "n_letters = len(tokens)\n",
    "\n",
    "def inputTensor(line):\n",
    "    tensor = torch.zeros(len(line), 1, n_letters)\n",
    "    for li in range(len(line)):\n",
    "        letter = line[li]\n",
    "        tensor[li][0][tokens_ids[letter]] = 1\n",
    "    return tensor\n",
    "\n",
    "# LongTensor of second letter to end (EOS) for target\n",
    "def targetTensor(line):\n",
    "    letter_indexes = [tokens_ids[line[li]] for li in range(1, len(line))]\n",
    "    letter_indexes.append(tokens_ids[pad_token]) # EOS\n",
    "    return torch.LongTensor(letter_indexes)\n",
    "\n",
    "\n",
    "def sample_one():\n",
    "    name = sample(names, 1)[0]\n",
    "    input_line_tensor = inputTensor(name)\n",
    "    target_line_tensor = targetTensor(name)\n",
    "    return input_line_tensor, target_line_tensor\n",
    "\n"
   ]
  },
  {
   "cell_type": "code",
   "execution_count": 9,
   "metadata": {},
   "outputs": [
    {
     "name": "stdout",
     "output_type": "stream",
     "text": [
      "7\n",
      "torch.Size([1, 128]) torch.Size([1, 56])\n"
     ]
    }
   ],
   "source": [
    "\n",
    "rnn = SimpleRNN(n_letters, 128, n_letters)\n",
    "\n",
    "hidden = rnn.initHidden()\n",
    "input = inputTensor(names[0]) # first letter\n",
    "\n",
    "print(input.size(0))\n",
    "\n",
    "next_hidden, output = rnn(input[0], hidden)\n",
    "print(next_hidden.shape, output.shape)\n"
   ]
  },
  {
   "cell_type": "code",
   "execution_count": 10,
   "metadata": {},
   "outputs": [
    {
     "data": {
      "text/plain": [
       "tensor(4.0710, grad_fn=<NllLossBackward>)"
      ]
     },
     "execution_count": 10,
     "metadata": {},
     "output_type": "execute_result"
    }
   ],
   "source": [
    "\n",
    "criterion = nn.CrossEntropyLoss()\n",
    "\n",
    "input, target = sample_one()\n",
    "target = target.unsqueeze_(-1)\n",
    "\n",
    "next_hidden, output = rnn(input[0],rnn.initHidden())\n",
    "\n",
    "criterion(output, target[0])\n"
   ]
  },
  {
   "cell_type": "code",
   "execution_count": null,
   "metadata": {},
   "outputs": [],
   "source": []
  },
  {
   "cell_type": "code",
   "execution_count": 11,
   "metadata": {},
   "outputs": [],
   "source": [
    "criterion = nn.NLLLoss()\n",
    "# criterion = nn.CrossEntropyLoss()\n",
    "rnn = SimpleRNN(n_letters, 128, n_letters)\n",
    "learning_rate = 0.005\n",
    "\n",
    "def train_on_random_sample():\n",
    "    input_tensor, target_tensor = sample_one()\n",
    "    target_tensor = target_tensor.unsqueeze_(-1)\n",
    "    hidden = rnn.initHidden()\n",
    "    nletters = input_tensor.size(0)\n",
    "    rnn.zero_grad()\n",
    "    loss = 0\n",
    "    for i in range(nletters):\n",
    "        next_hidden, output = rnn(input_tensor[i], hidden)\n",
    "        l = criterion(output, target_tensor[i])\n",
    "        hidden = next_hidden\n",
    "        loss+=l\n",
    "        \n",
    "    loss.backward()\n",
    "    \n",
    "    for p in rnn.parameters():\n",
    "        p.data.add_(-learning_rate, p.grad.data)\n",
    "    \n",
    "    return output, loss.item()\n"
   ]
  },
  {
   "cell_type": "code",
   "execution_count": 12,
   "metadata": {},
   "outputs": [
    {
     "name": "stdout",
     "output_type": "stream",
     "text": [
      "0m 11s (5000 5%) 9.2340\n",
      "0m 23s (10000 10%) 12.4861\n",
      "0m 38s (15000 15%) 15.3888\n",
      "0m 54s (20000 20%) 12.8782\n",
      "1m 9s (25000 25%) 9.1059\n",
      "1m 24s (30000 30%) 8.3574\n",
      "1m 35s (35000 35%) 7.3673\n",
      "1m 47s (40000 40%) 13.3776\n",
      "1m 59s (45000 45%) 18.3849\n",
      "2m 11s (50000 50%) 10.8623\n",
      "2m 23s (55000 55%) 8.2076\n",
      "2m 38s (60000 60%) 13.1179\n",
      "2m 53s (65000 65%) 7.0127\n",
      "3m 8s (70000 70%) 9.5856\n",
      "3m 23s (75000 75%) 12.6866\n",
      "3m 39s (80000 80%) 11.9135\n",
      "3m 54s (85000 85%) 14.5307\n",
      "4m 9s (90000 90%) 9.7911\n",
      "4m 24s (95000 95%) 7.9500\n",
      "4m 39s (100000 100%) 11.2071\n"
     ]
    }
   ],
   "source": [
    "\n",
    "n_iters = 100000\n",
    "print_every = 5000\n",
    "plot_every = 500\n",
    "all_losses = []\n",
    "total_loss = 0 # Reset every plot_every iters\n",
    "\n",
    "start = time.time()\n",
    "\n",
    "for ind in range(1, n_iters + 1):\n",
    "    output, loss = train_on_random_sample()\n",
    "    total_loss += loss\n",
    "\n",
    "    if ind % print_every == 0:\n",
    "        print('%s (%d %d%%) %.4f' % (timeSince(start), ind, ind / n_iters * 100, loss))\n",
    "\n",
    "    if ind % plot_every == 0:\n",
    "        all_losses.append(total_loss / plot_every)\n",
    "        total_loss = 0\n",
    "\n"
   ]
  },
  {
   "cell_type": "code",
   "execution_count": 13,
   "metadata": {},
   "outputs": [
    {
     "data": {
      "text/plain": [
       "[<matplotlib.lines.Line2D at 0x7f6e852dcc18>]"
      ]
     },
     "execution_count": 13,
     "metadata": {},
     "output_type": "execute_result"
    },
    {
     "data": {
      "image/png": "[encoded data removed]",
      "text/plain": [
       "<Figure size 432x288 with 1 Axes>"
      ]
     },
     "metadata": {},
     "output_type": "display_data"
    }
   ],
   "source": [
    "import matplotlib.pyplot as plt\n",
    "import matplotlib.ticker as ticker\n",
    "\n",
    "plt.figure()\n",
    "plt.plot(all_losses)\n"
   ]
  },
  {
   "cell_type": "code",
   "execution_count": 14,
   "metadata": {},
   "outputs": [],
   "source": [
    "max_length = MAX_LEN\n",
    "def sample_from_nn(start_letter='A'):\n",
    "    with torch.no_grad():  # no need to track history in sampling\n",
    "        input = inputTensor(start_letter)\n",
    "        hidden = rnn.initHidden()\n",
    "\n",
    "        output_name = start_letter\n",
    "\n",
    "        for i in range(max_length):\n",
    "            hidden, output = rnn(input[0], hidden)\n",
    "            topv, topi = output.topk(1)\n",
    "            topi = topi[0][0]\n",
    "            if topi == n_letters - 1:\n",
    "                break\n",
    "            else:\n",
    "                letter = ids_tokens[topi.item()]\n",
    "                output_name += letter\n",
    "            input = inputTensor(letter)\n",
    "\n",
    "        return output_name\n",
    "    \n",
    "def sample_from_nn_distr(start_letter='A'):\n",
    "    with torch.no_grad():  # no need to track history in sampling\n",
    "        input = inputTensor(start_letter)\n",
    "        hidden = rnn.initHidden()\n",
    "\n",
    "        output_name = start_letter\n",
    "\n",
    "        for i in range(max_length):\n",
    "            hidden, output = rnn(input[0], hidden)\n",
    "            output_arr = output.numpy()[0]\n",
    "            print(output_arr)\n",
    "            token_id = np.random.choice(range(len(output_arr)), p = output_arr)\n",
    "            letter = ids_tokens[token_id]\n",
    "            output_name += letter    \n",
    "            input = inputTensor(letter)\n",
    "\n",
    "        return output_name\n",
    "\n"
   ]
  },
  {
   "cell_type": "code",
   "execution_count": 36,
   "metadata": {},
   "outputs": [
    {
     "data": {
      "text/plain": [
       "'vinnie####e#####'"
      ]
     },
     "execution_count": 36,
     "metadata": {},
     "output_type": "execute_result"
    }
   ],
   "source": [
    "\n",
    "sample_from_nn('v')"
   ]
  },
  {
   "cell_type": "code",
   "execution_count": 120,
   "metadata": {},
   "outputs": [],
   "source": [
    "??nn.LogSoftmax"
   ]
  },
  {
   "cell_type": "code",
   "execution_count": 117,
   "metadata": {},
   "outputs": [],
   "source": [
    "??np.random.choice"
   ]
  },
  {
   "cell_type": "code",
   "execution_count": null,
   "metadata": {},
   "outputs": [],
   "source": []
  }
 ],
 "metadata": {
  "kernelspec": {
   "display_name": "Environment (conda_python3)",
   "language": "python",
   "name": "conda_python3"
  },
  "language_info": {
   "codemirror_mode": {
    "name": "ipython",
    "version": 3
   },
   "file_extension": ".py",
   "mimetype": "text/x-python",
   "name": "python",
   "nbconvert_exporter": "python",
   "pygments_lexer": "ipython3",
   "version": "3.6.8"
  }
 },
 "nbformat": 4,
 "nbformat_minor": 2
}
